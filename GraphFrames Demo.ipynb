{
 "cells": [
  {
   "cell_type": "markdown",
   "id": "1a2bcb0a-9e34-4dc6-8a6c-599807d51652",
   "metadata": {},
   "source": [
    "# GraphGeeks - Knowledge Graph Construction with GraphFrames Demo\n",
    "\n",
    "This is a demonstration of the key sourcery of GraphFrames for building large knowledge graphs. "
   ]
  },
  {
   "cell_type": "code",
   "execution_count": 1,
   "id": "513d0bf5-2a82-4d62-968d-6dd42fa8222b",
   "metadata": {},
   "outputs": [],
   "source": [
    "import findspark\n",
    "findspark.init()"
   ]
  },
  {
   "cell_type": "code",
   "execution_count": 2,
   "id": "4c25023c-68ca-4082-a09d-0bfdd177f8b7",
   "metadata": {},
   "outputs": [],
   "source": [
    "import pyspark.sql.functions as F\n",
    "from pyspark import SparkConf\n",
    "from pyspark.sql import DataFrame, SparkSession\n",
    "from graphframes import GraphFrame"
   ]
  },
  {
   "cell_type": "markdown",
   "id": "baf3e123-9ac2-4895-8bac-b019d240351d",
   "metadata": {},
   "source": [
    "### Configure Paths for Data Loading"
   ]
  },
  {
   "cell_type": "code",
   "execution_count": 3,
   "id": "921b727b-4d22-49f9-8cee-0f8a2397f428",
   "metadata": {},
   "outputs": [],
   "source": [
    "# Change me if you download a different stackexchange site\n",
    "STACKEXCHANGE_SITE: str = \"stats.meta.stackexchange.com\"\n",
    "BASE_PATH: str = f\"python/graphframes/tutorials/data/{STACKEXCHANGE_SITE}\"\n",
    "NODE_PATH: str = f\"{BASE_PATH}/Nodes.parquet\"\n",
    "EDGE_PATH: str = f\"{BASE_PATH}/Edges.parquet\""
   ]
  },
  {
   "cell_type": "markdown",
   "id": "2dc889a8-d011-401e-b20d-836f30ee5808",
   "metadata": {},
   "source": [
    "### Setup our `SparkSession`"
   ]
  },
  {
   "cell_type": "code",
   "execution_count": 66,
   "id": "37451f38-b547-44fd-81d4-42f4a6443d74",
   "metadata": {},
   "outputs": [],
   "source": [
    "# Create SparkConf with memory settings\n",
    "conf = (\n",
    "    SparkConf()\n",
    "    .setAppName(\"GraphGeeks Demo\")\n",
    "    .set(\"spark.driver.memory\", \"32g\")\n",
    "    .set(\"spark.executor.memory\", \"4g\")\n",
    "    .set(\"spark.jars.packages\", \"graphframes:graphframes:0.8.4-spark3.5-s_2.12\")\n",
    "    .set(\"spark.checkpoint.dir\", \"/tmp/spark-checkpoint\")\n",
    "    .set(\"spark.sql.caseSensitive\", True)\n",
    ")\n",
    "\n",
    "\n",
    "# Create SparkSession with SparkConf\n",
    "spark = SparkSession.builder \\\n",
    "    .config(conf=conf) \\\n",
    "    .getOrCreate()\n",
    "\n",
    "spark.sparkContext.setCheckpointDir(\"/tmp/spark-checkpoint\")"
   ]
  },
  {
   "cell_type": "markdown",
   "id": "f9749476-ef6e-4375-885a-45d6cdff2f5c",
   "metadata": {},
   "source": [
    "### Load the Stack Exchange Archive for `stats.meta.stackexchange.com`"
   ]
  },
  {
   "cell_type": "code",
   "execution_count": 67,
   "id": "bc178e5a-ea2a-4916-beba-120ed2140dd0",
   "metadata": {},
   "outputs": [],
   "source": [
    "# Load our nodes and edges... in GraphFrames we call nodes vertices\n",
    "vertex_df: DataFrame = spark.read.parquet(NODE_PATH)\n",
    "edge_df: DataFrame = spark.read.parquet(EDGE_PATH)"
   ]
  },
  {
   "cell_type": "markdown",
   "id": "91dd49cc-0538-4ba5-acd0-02bbb9a20ed0",
   "metadata": {},
   "source": [
    "### Instantiate a GraphFrame"
   ]
  },
  {
   "cell_type": "code",
   "execution_count": 68,
   "id": "d709637f-b9e0-4624-9dad-84a4541329d4",
   "metadata": {},
   "outputs": [],
   "source": [
    "# Instantiate our GraphFrame\n",
    "g: GraphFrame = GraphFrame(vertex_df, edge_df)"
   ]
  },
  {
   "cell_type": "markdown",
   "id": "9807091e-d34c-419e-95b2-8e1c80c0e94e",
   "metadata": {},
   "source": [
    "### How much data we got?"
   ]
  },
  {
   "cell_type": "code",
   "execution_count": 69,
   "id": "a3fcf960-7b7a-4e47-8ff1-51155050e382",
   "metadata": {},
   "outputs": [
    {
     "name": "stdout",
     "output_type": "stream",
     "text": [
      "Vertex count: 129,751\n",
      "Edge count: 97,104\n"
     ]
    }
   ],
   "source": [
    "# Count the nodes and edges\n",
    "print(f\"Vertex count: {g.vertices.count():,}\")\n",
    "print(f\"Edge count: {g.edges.count():,}\")"
   ]
  },
  {
   "cell_type": "markdown",
   "id": "f3a0276f-c161-4abc-866f-83ecb0a8eb6f",
   "metadata": {},
   "source": [
    "### What types of nodes do we have?"
   ]
  },
  {
   "cell_type": "code",
   "execution_count": 70,
   "id": "12dc5a00-c75d-4a25-9dd2-8fe297a97918",
   "metadata": {},
   "outputs": [
    {
     "data": {
      "text/html": [
       "<div>\n",
       "<style scoped>\n",
       "    .dataframe tbody tr th:only-of-type {\n",
       "        vertical-align: middle;\n",
       "    }\n",
       "\n",
       "    .dataframe tbody tr th {\n",
       "        vertical-align: top;\n",
       "    }\n",
       "\n",
       "    .dataframe thead th {\n",
       "        text-align: right;\n",
       "    }\n",
       "</style>\n",
       "<table border=\"1\" class=\"dataframe\">\n",
       "  <thead>\n",
       "    <tr style=\"text-align: right;\">\n",
       "      <th></th>\n",
       "      <th>Node Type</th>\n",
       "      <th>count</th>\n",
       "    </tr>\n",
       "  </thead>\n",
       "  <tbody>\n",
       "    <tr>\n",
       "      <th>0</th>\n",
       "      <td>Badge</td>\n",
       "      <td>43,029</td>\n",
       "    </tr>\n",
       "    <tr>\n",
       "      <th>1</th>\n",
       "      <td>Vote</td>\n",
       "      <td>42,593</td>\n",
       "    </tr>\n",
       "    <tr>\n",
       "      <th>2</th>\n",
       "      <td>User</td>\n",
       "      <td>37,709</td>\n",
       "    </tr>\n",
       "    <tr>\n",
       "      <th>3</th>\n",
       "      <td>Answer</td>\n",
       "      <td>2,978</td>\n",
       "    </tr>\n",
       "    <tr>\n",
       "      <th>4</th>\n",
       "      <td>Question</td>\n",
       "      <td>2,025</td>\n",
       "    </tr>\n",
       "    <tr>\n",
       "      <th>5</th>\n",
       "      <td>PostLinks</td>\n",
       "      <td>1,274</td>\n",
       "    </tr>\n",
       "    <tr>\n",
       "      <th>6</th>\n",
       "      <td>Tag</td>\n",
       "      <td>143</td>\n",
       "    </tr>\n",
       "  </tbody>\n",
       "</table>\n",
       "</div>"
      ],
      "text/plain": [
       "   Node Type   count\n",
       "0      Badge  43,029\n",
       "1       Vote  42,593\n",
       "2       User  37,709\n",
       "3     Answer   2,978\n",
       "4   Question   2,025\n",
       "5  PostLinks   1,274\n",
       "6        Tag     143"
      ]
     },
     "execution_count": 70,
     "metadata": {},
     "output_type": "execute_result"
    }
   ],
   "source": [
    "# What kind of nodes we do we have to work with?\n",
    "node_counts = (\n",
    "    vertex_df\n",
    "    .select(\"id\", F.col(\"Type\").alias(\"Node Type\"))\n",
    "    .groupBy(\"Node Type\")\n",
    "    .count()\n",
    "    .orderBy(F.col(\"count\").desc())\n",
    "    # Add a comma formatted column for display\n",
    "    .withColumn(\"count\", F.format_number(F.col(\"count\"), 0))\n",
    ")\n",
    "\n",
    "# You can use .show() or .toPandas() for small tables\n",
    "node_counts.toPandas()"
   ]
  },
  {
   "cell_type": "code",
   "execution_count": 71,
   "id": "d7592a8a-913c-4399-92bb-cf9438e68a57",
   "metadata": {},
   "outputs": [
    {
     "data": {
      "text/html": [
       "<div>\n",
       "<style scoped>\n",
       "    .dataframe tbody tr th:only-of-type {\n",
       "        vertical-align: middle;\n",
       "    }\n",
       "\n",
       "    .dataframe tbody tr th {\n",
       "        vertical-align: top;\n",
       "    }\n",
       "\n",
       "    .dataframe thead th {\n",
       "        text-align: right;\n",
       "    }\n",
       "</style>\n",
       "<table border=\"1\" class=\"dataframe\">\n",
       "  <thead>\n",
       "    <tr style=\"text-align: right;\">\n",
       "      <th></th>\n",
       "      <th>Edge Type</th>\n",
       "      <th>count</th>\n",
       "    </tr>\n",
       "  </thead>\n",
       "  <tbody>\n",
       "    <tr>\n",
       "      <th>0</th>\n",
       "      <td>Earns</td>\n",
       "      <td>43,029</td>\n",
       "    </tr>\n",
       "    <tr>\n",
       "      <th>1</th>\n",
       "      <td>CastFor</td>\n",
       "      <td>40,701</td>\n",
       "    </tr>\n",
       "    <tr>\n",
       "      <th>2</th>\n",
       "      <td>Tags</td>\n",
       "      <td>4,427</td>\n",
       "    </tr>\n",
       "    <tr>\n",
       "      <th>3</th>\n",
       "      <td>Answers</td>\n",
       "      <td>2,978</td>\n",
       "    </tr>\n",
       "    <tr>\n",
       "      <th>4</th>\n",
       "      <td>Posts</td>\n",
       "      <td>2,767</td>\n",
       "    </tr>\n",
       "    <tr>\n",
       "      <th>5</th>\n",
       "      <td>Asks</td>\n",
       "      <td>1,934</td>\n",
       "    </tr>\n",
       "    <tr>\n",
       "      <th>6</th>\n",
       "      <td>Links</td>\n",
       "      <td>1,180</td>\n",
       "    </tr>\n",
       "    <tr>\n",
       "      <th>7</th>\n",
       "      <td>Duplicates</td>\n",
       "      <td>88</td>\n",
       "    </tr>\n",
       "  </tbody>\n",
       "</table>\n",
       "</div>"
      ],
      "text/plain": [
       "    Edge Type   count\n",
       "0       Earns  43,029\n",
       "1     CastFor  40,701\n",
       "2        Tags   4,427\n",
       "3     Answers   2,978\n",
       "4       Posts   2,767\n",
       "5        Asks   1,934\n",
       "6       Links   1,180\n",
       "7  Duplicates      88"
      ]
     },
     "execution_count": 71,
     "metadata": {},
     "output_type": "execute_result"
    }
   ],
   "source": [
    "# What kind of edges do we have to work with?\n",
    "edge_counts = (\n",
    "    g.edges\n",
    "    .select(\"src\", \"dst\", F.col(\"relationship\").alias(\"Edge Type\"))\n",
    "    .groupBy(\"Edge Type\")\n",
    "    .count()\n",
    "    .orderBy(F.col(\"count\").desc())\n",
    "    # Add a comma formatted column for display\n",
    "    .withColumn(\"count\", F.format_number(F.col(\"count\"), 0))\n",
    ")\n",
    "edge_counts.toPandas()"
   ]
  },
  {
   "cell_type": "markdown",
   "id": "1438406e-12cb-41de-a333-c1381341bbf1",
   "metadata": {},
   "source": [
    "## A Battery of Graph Algorithms!\n",
    "\n",
    "### PageRank\n",
    "\n",
    "This week, I will add weighted PageRank - the `weight` column already gets used, it just can't exist at the start... :)"
   ]
  },
  {
   "cell_type": "code",
   "execution_count": 12,
   "id": "c23a1492-52b9-4f2d-bea5-8a9f4a7d47b3",
   "metadata": {},
   "outputs": [
    {
     "name": "stderr",
     "output_type": "stream",
     "text": [
      "25/03/25 07:33:21 WARN SparkStringUtils: Truncated the string representation of a plan since it was too large. This behavior can be adjusted by setting 'spark.sql.debug.maxToStringFields'.\n",
      "                                                                                "
     ]
    },
    {
     "data": {
      "text/html": [
       "<div>\n",
       "<style scoped>\n",
       "    .dataframe tbody tr th:only-of-type {\n",
       "        vertical-align: middle;\n",
       "    }\n",
       "\n",
       "    .dataframe tbody tr th {\n",
       "        vertical-align: top;\n",
       "    }\n",
       "\n",
       "    .dataframe thead th {\n",
       "        text-align: right;\n",
       "    }\n",
       "</style>\n",
       "<table border=\"1\" class=\"dataframe\">\n",
       "  <thead>\n",
       "    <tr style=\"text-align: right;\">\n",
       "      <th></th>\n",
       "      <th>id</th>\n",
       "      <th>Type</th>\n",
       "      <th>pagerank</th>\n",
       "    </tr>\n",
       "  </thead>\n",
       "  <tbody>\n",
       "    <tr>\n",
       "      <th>0</th>\n",
       "      <td>0e0f90e5-f19e-41b0-a51c-28d1ec143a28</td>\n",
       "      <td>User</td>\n",
       "      <td>0.555685</td>\n",
       "    </tr>\n",
       "    <tr>\n",
       "      <th>1</th>\n",
       "      <td>0e9226a0-39bd-4209-9227-8e3904a1b595</td>\n",
       "      <td>Vote</td>\n",
       "      <td>0.555685</td>\n",
       "    </tr>\n",
       "    <tr>\n",
       "      <th>2</th>\n",
       "      <td>be615286-8adb-4159-9372-ae4fa1054053</td>\n",
       "      <td>Vote</td>\n",
       "      <td>0.555685</td>\n",
       "    </tr>\n",
       "    <tr>\n",
       "      <th>3</th>\n",
       "      <td>1db69632-4e45-42f2-be93-9dec9c7e76bd</td>\n",
       "      <td>Badge</td>\n",
       "      <td>0.713129</td>\n",
       "    </tr>\n",
       "    <tr>\n",
       "      <th>4</th>\n",
       "      <td>58af9aca-66f4-4336-b0b4-77bb72b2710b</td>\n",
       "      <td>Badge</td>\n",
       "      <td>1.028017</td>\n",
       "    </tr>\n",
       "    <tr>\n",
       "      <th>...</th>\n",
       "      <td>...</td>\n",
       "      <td>...</td>\n",
       "      <td>...</td>\n",
       "    </tr>\n",
       "    <tr>\n",
       "      <th>129746</th>\n",
       "      <td>1ce0d944-7ff7-4ff9-a048-304ca5a2eda8</td>\n",
       "      <td>Vote</td>\n",
       "      <td>0.555685</td>\n",
       "    </tr>\n",
       "    <tr>\n",
       "      <th>129747</th>\n",
       "      <td>b464f70a-f4ba-4bd9-b744-ccf532cfa6e4</td>\n",
       "      <td>Badge</td>\n",
       "      <td>0.608166</td>\n",
       "    </tr>\n",
       "    <tr>\n",
       "      <th>129748</th>\n",
       "      <td>f8b45f59-9498-4f29-8f0e-0dd75595254d</td>\n",
       "      <td>Vote</td>\n",
       "      <td>0.555685</td>\n",
       "    </tr>\n",
       "    <tr>\n",
       "      <th>129749</th>\n",
       "      <td>16d081a4-fba9-41e3-b10d-fc4c3b4fec35</td>\n",
       "      <td>Answer</td>\n",
       "      <td>1.028017</td>\n",
       "    </tr>\n",
       "    <tr>\n",
       "      <th>129750</th>\n",
       "      <td>fc207d7f-c6a7-4cbb-8167-c7b9b966b160</td>\n",
       "      <td>User</td>\n",
       "      <td>0.555685</td>\n",
       "    </tr>\n",
       "  </tbody>\n",
       "</table>\n",
       "<p>129751 rows × 3 columns</p>\n",
       "</div>"
      ],
      "text/plain": [
       "                                          id    Type  pagerank\n",
       "0       0e0f90e5-f19e-41b0-a51c-28d1ec143a28    User  0.555685\n",
       "1       0e9226a0-39bd-4209-9227-8e3904a1b595    Vote  0.555685\n",
       "2       be615286-8adb-4159-9372-ae4fa1054053    Vote  0.555685\n",
       "3       1db69632-4e45-42f2-be93-9dec9c7e76bd   Badge  0.713129\n",
       "4       58af9aca-66f4-4336-b0b4-77bb72b2710b   Badge  1.028017\n",
       "...                                      ...     ...       ...\n",
       "129746  1ce0d944-7ff7-4ff9-a048-304ca5a2eda8    Vote  0.555685\n",
       "129747  b464f70a-f4ba-4bd9-b744-ccf532cfa6e4   Badge  0.608166\n",
       "129748  f8b45f59-9498-4f29-8f0e-0dd75595254d    Vote  0.555685\n",
       "129749  16d081a4-fba9-41e3-b10d-fc4c3b4fec35  Answer  1.028017\n",
       "129750  fc207d7f-c6a7-4cbb-8167-c7b9b966b160    User  0.555685\n",
       "\n",
       "[129751 rows x 3 columns]"
      ]
     },
     "execution_count": 12,
     "metadata": {},
     "output_type": "execute_result"
    }
   ],
   "source": [
    "g2 = g.pageRank(resetProbability=0.15, maxIter=10)\n",
    "\n",
    "g2.vertices.select(\"id\", \"Type\", \"pagerank\").toPandas()"
   ]
  },
  {
   "cell_type": "markdown",
   "id": "86117791-fcb4-4098-8635-5a2da5bede6d",
   "metadata": {},
   "source": [
    "### Connected Components - Drives Many Entity Resolution Processes!"
   ]
  },
  {
   "cell_type": "code",
   "execution_count": 42,
   "id": "9f361456-33fb-42ff-aa6a-95eff0a1b7ef",
   "metadata": {},
   "outputs": [
    {
     "name": "stderr",
     "output_type": "stream",
     "text": [
      "25/03/25 08:10:14 WARN CacheManager: Asked to cache already cached data.\n",
      "                                                                                "
     ]
    }
   ],
   "source": [
    "component_node_df = g.connectedComponents().select(\"id\", \"component\")"
   ]
  },
  {
   "cell_type": "markdown",
   "id": "e016bd42-8994-4299-b0e1-7014a1aead6c",
   "metadata": {},
   "source": [
    "### How many connected components of what size?"
   ]
  },
  {
   "cell_type": "code",
   "execution_count": 43,
   "id": "a7d7f6df-335d-4663-92f8-c3f133e6a003",
   "metadata": {},
   "outputs": [
    {
     "name": "stderr",
     "output_type": "stream",
     "text": [
      "                                                                                "
     ]
    },
    {
     "data": {
      "text/html": [
       "<div>\n",
       "<style scoped>\n",
       "    .dataframe tbody tr th:only-of-type {\n",
       "        vertical-align: middle;\n",
       "    }\n",
       "\n",
       "    .dataframe tbody tr th {\n",
       "        vertical-align: top;\n",
       "    }\n",
       "\n",
       "    .dataframe thead th {\n",
       "        text-align: right;\n",
       "    }\n",
       "</style>\n",
       "<table border=\"1\" class=\"dataframe\">\n",
       "  <thead>\n",
       "    <tr style=\"text-align: right;\">\n",
       "      <th></th>\n",
       "      <th>component</th>\n",
       "      <th>count</th>\n",
       "    </tr>\n",
       "  </thead>\n",
       "  <tbody>\n",
       "    <tr>\n",
       "      <th>0</th>\n",
       "      <td>1</td>\n",
       "      <td>56442</td>\n",
       "    </tr>\n",
       "    <tr>\n",
       "      <th>1</th>\n",
       "      <td>17179869740</td>\n",
       "      <td>18</td>\n",
       "    </tr>\n",
       "    <tr>\n",
       "      <th>2</th>\n",
       "      <td>34359738458</td>\n",
       "      <td>18</td>\n",
       "    </tr>\n",
       "    <tr>\n",
       "      <th>3</th>\n",
       "      <td>103079215642</td>\n",
       "      <td>18</td>\n",
       "    </tr>\n",
       "    <tr>\n",
       "      <th>4</th>\n",
       "      <td>111669150065</td>\n",
       "      <td>17</td>\n",
       "    </tr>\n",
       "    <tr>\n",
       "      <th>5</th>\n",
       "      <td>77</td>\n",
       "      <td>17</td>\n",
       "    </tr>\n",
       "    <tr>\n",
       "      <th>6</th>\n",
       "      <td>420906795038</td>\n",
       "      <td>17</td>\n",
       "    </tr>\n",
       "    <tr>\n",
       "      <th>7</th>\n",
       "      <td>8589934811</td>\n",
       "      <td>16</td>\n",
       "    </tr>\n",
       "    <tr>\n",
       "      <th>8</th>\n",
       "      <td>480</td>\n",
       "      <td>16</td>\n",
       "    </tr>\n",
       "    <tr>\n",
       "      <th>9</th>\n",
       "      <td>17179869561</td>\n",
       "      <td>16</td>\n",
       "    </tr>\n",
       "    <tr>\n",
       "      <th>10</th>\n",
       "      <td>387</td>\n",
       "      <td>16</td>\n",
       "    </tr>\n",
       "    <tr>\n",
       "      <th>11</th>\n",
       "      <td>17179869304</td>\n",
       "      <td>16</td>\n",
       "    </tr>\n",
       "    <tr>\n",
       "      <th>12</th>\n",
       "      <td>8589934927</td>\n",
       "      <td>16</td>\n",
       "    </tr>\n",
       "    <tr>\n",
       "      <th>13</th>\n",
       "      <td>25769804044</td>\n",
       "      <td>16</td>\n",
       "    </tr>\n",
       "    <tr>\n",
       "      <th>14</th>\n",
       "      <td>17179869225</td>\n",
       "      <td>16</td>\n",
       "    </tr>\n",
       "    <tr>\n",
       "      <th>15</th>\n",
       "      <td>146</td>\n",
       "      <td>16</td>\n",
       "    </tr>\n",
       "    <tr>\n",
       "      <th>16</th>\n",
       "      <td>25769804173</td>\n",
       "      <td>16</td>\n",
       "    </tr>\n",
       "    <tr>\n",
       "      <th>17</th>\n",
       "      <td>42949673226</td>\n",
       "      <td>16</td>\n",
       "    </tr>\n",
       "    <tr>\n",
       "      <th>18</th>\n",
       "      <td>34359738743</td>\n",
       "      <td>16</td>\n",
       "    </tr>\n",
       "    <tr>\n",
       "      <th>19</th>\n",
       "      <td>60129542790</td>\n",
       "      <td>16</td>\n",
       "    </tr>\n",
       "  </tbody>\n",
       "</table>\n",
       "</div>"
      ],
      "text/plain": [
       "       component  count\n",
       "0              1  56442\n",
       "1    17179869740     18\n",
       "2    34359738458     18\n",
       "3   103079215642     18\n",
       "4   111669150065     17\n",
       "5             77     17\n",
       "6   420906795038     17\n",
       "7     8589934811     16\n",
       "8            480     16\n",
       "9    17179869561     16\n",
       "10           387     16\n",
       "11   17179869304     16\n",
       "12    8589934927     16\n",
       "13   25769804044     16\n",
       "14   17179869225     16\n",
       "15           146     16\n",
       "16   25769804173     16\n",
       "17   42949673226     16\n",
       "18   34359738743     16\n",
       "19   60129542790     16"
      ]
     },
     "execution_count": 43,
     "metadata": {},
     "output_type": "execute_result"
    }
   ],
   "source": [
    "component_node_df.groupBy(\"component\").count().orderBy(F.col(\"count\").desc()).limit(20).toPandas()"
   ]
  },
  {
   "cell_type": "markdown",
   "id": "809fa432-2672-45c3-9863-3e497c7ccb69",
   "metadata": {},
   "source": [
    "### And Strongly Connected Components?"
   ]
  },
  {
   "cell_type": "code",
   "execution_count": 24,
   "id": "15f73e70-bb75-40a5-af37-0386cbc6120e",
   "metadata": {},
   "outputs": [
    {
     "name": "stderr",
     "output_type": "stream",
     "text": [
      "25/03/25 08:00:51 WARN BlockManager: Block rdd_5740_1 already exists on this machine; not re-adding it\n",
      "25/03/25 08:00:51 WARN BlockManager: Block rdd_5740_3 already exists on this machine; not re-adding it\n",
      "25/03/25 08:00:53 WARN BlockManager: Block rdd_5772_2 already exists on this machine; not re-adding it\n",
      "25/03/25 08:01:15 WARN BlockManager: Block rdd_6229_1 already exists on this machine; not re-adding it\n",
      "25/03/25 08:01:16 WARN BlockManager: Block rdd_6245_5 already exists on this machine; not re-adding it\n",
      "25/03/25 08:01:17 WARN BlockManager: Block rdd_6261_4 already exists on this machine; not re-adding it\n",
      "                                                                                "
     ]
    }
   ],
   "source": [
    "strong_component_node_df = g.stronglyConnectedComponents(maxIter=3).select(\"id\", \"component\")"
   ]
  },
  {
   "cell_type": "code",
   "execution_count": 44,
   "id": "506a63fe-8ad5-487e-b1dd-7cf868c8ae06",
   "metadata": {},
   "outputs": [
    {
     "name": "stderr",
     "output_type": "stream",
     "text": [
      "                                                                                "
     ]
    },
    {
     "data": {
      "text/html": [
       "<div>\n",
       "<style scoped>\n",
       "    .dataframe tbody tr th:only-of-type {\n",
       "        vertical-align: middle;\n",
       "    }\n",
       "\n",
       "    .dataframe tbody tr th {\n",
       "        vertical-align: top;\n",
       "    }\n",
       "\n",
       "    .dataframe thead th {\n",
       "        text-align: right;\n",
       "    }\n",
       "</style>\n",
       "<table border=\"1\" class=\"dataframe\">\n",
       "  <thead>\n",
       "    <tr style=\"text-align: right;\">\n",
       "      <th></th>\n",
       "      <th>component</th>\n",
       "      <th>count</th>\n",
       "    </tr>\n",
       "  </thead>\n",
       "  <tbody>\n",
       "    <tr>\n",
       "      <th>0</th>\n",
       "      <td>42949673589</td>\n",
       "      <td>19</td>\n",
       "    </tr>\n",
       "    <tr>\n",
       "      <th>1</th>\n",
       "      <td>8589934622</td>\n",
       "      <td>14</td>\n",
       "    </tr>\n",
       "    <tr>\n",
       "      <th>2</th>\n",
       "      <td>146028888392</td>\n",
       "      <td>5</td>\n",
       "    </tr>\n",
       "    <tr>\n",
       "      <th>3</th>\n",
       "      <td>274877907107</td>\n",
       "      <td>4</td>\n",
       "    </tr>\n",
       "    <tr>\n",
       "      <th>4</th>\n",
       "      <td>60129542384</td>\n",
       "      <td>4</td>\n",
       "    </tr>\n",
       "    <tr>\n",
       "      <th>5</th>\n",
       "      <td>249108103608</td>\n",
       "      <td>4</td>\n",
       "    </tr>\n",
       "    <tr>\n",
       "      <th>6</th>\n",
       "      <td>68719476888</td>\n",
       "      <td>3</td>\n",
       "    </tr>\n",
       "    <tr>\n",
       "      <th>7</th>\n",
       "      <td>154618822779</td>\n",
       "      <td>3</td>\n",
       "    </tr>\n",
       "    <tr>\n",
       "      <th>8</th>\n",
       "      <td>111669149904</td>\n",
       "      <td>3</td>\n",
       "    </tr>\n",
       "    <tr>\n",
       "      <th>9</th>\n",
       "      <td>446676599104</td>\n",
       "      <td>3</td>\n",
       "    </tr>\n",
       "    <tr>\n",
       "      <th>10</th>\n",
       "      <td>283467842033</td>\n",
       "      <td>2</td>\n",
       "    </tr>\n",
       "    <tr>\n",
       "      <th>11</th>\n",
       "      <td>42949673158</td>\n",
       "      <td>2</td>\n",
       "    </tr>\n",
       "    <tr>\n",
       "      <th>12</th>\n",
       "      <td>77309411712</td>\n",
       "      <td>2</td>\n",
       "    </tr>\n",
       "    <tr>\n",
       "      <th>13</th>\n",
       "      <td>549755814142</td>\n",
       "      <td>2</td>\n",
       "    </tr>\n",
       "    <tr>\n",
       "      <th>14</th>\n",
       "      <td>300647711185</td>\n",
       "      <td>2</td>\n",
       "    </tr>\n",
       "    <tr>\n",
       "      <th>15</th>\n",
       "      <td>103079215636</td>\n",
       "      <td>2</td>\n",
       "    </tr>\n",
       "    <tr>\n",
       "      <th>16</th>\n",
       "      <td>34359738450</td>\n",
       "      <td>2</td>\n",
       "    </tr>\n",
       "    <tr>\n",
       "      <th>17</th>\n",
       "      <td>506806141182</td>\n",
       "      <td>2</td>\n",
       "    </tr>\n",
       "    <tr>\n",
       "      <th>18</th>\n",
       "      <td>601295421716</td>\n",
       "      <td>2</td>\n",
       "    </tr>\n",
       "    <tr>\n",
       "      <th>19</th>\n",
       "      <td>25769804342</td>\n",
       "      <td>2</td>\n",
       "    </tr>\n",
       "  </tbody>\n",
       "</table>\n",
       "</div>"
      ],
      "text/plain": [
       "       component  count\n",
       "0    42949673589     19\n",
       "1     8589934622     14\n",
       "2   146028888392      5\n",
       "3   274877907107      4\n",
       "4    60129542384      4\n",
       "5   249108103608      4\n",
       "6    68719476888      3\n",
       "7   154618822779      3\n",
       "8   111669149904      3\n",
       "9   446676599104      3\n",
       "10  283467842033      2\n",
       "11   42949673158      2\n",
       "12   77309411712      2\n",
       "13  549755814142      2\n",
       "14  300647711185      2\n",
       "15  103079215636      2\n",
       "16   34359738450      2\n",
       "17  506806141182      2\n",
       "18  601295421716      2\n",
       "19   25769804342      2"
      ]
     },
     "execution_count": 44,
     "metadata": {},
     "output_type": "execute_result"
    }
   ],
   "source": [
    "strong_component_node_df.groupBy(\"component\").count().orderBy(F.col(\"count\").desc()).limit(20).toPandas()"
   ]
  },
  {
   "cell_type": "markdown",
   "id": "888f8a37-b693-40e7-a98d-2c20ff6001b7",
   "metadata": {},
   "source": [
    "### Network Motif Finding\n",
    "\n",
    "A network motif is a pattern in a network that is over or under abundant compared to a random graph model of your network :)"
   ]
  },
  {
   "cell_type": "code",
   "execution_count": 34,
   "id": "e840365c-23c2-4a18-aab9-1061409cf779",
   "metadata": {},
   "outputs": [
    {
     "name": "stderr",
     "output_type": "stream",
     "text": [
      "[Stage 23301:=================================================>   (16 + 1) / 17]"
     ]
    },
    {
     "name": "stdout",
     "output_type": "stream",
     "text": [
      "+--------------------+--------------------+--------------------+--------------------+--------------------+--------------------+\n",
      "|                   a|                  e1|                   b|                  e2|                   c|                  e3|\n",
      "+--------------------+--------------------+--------------------+--------------------+--------------------+--------------------+\n",
      "|{61ca9985-f61d-49...|{61ca9985-f61d-49...|{e72170f9-8c4d-4a...|{61ca9985-f61d-49...|{07138d15-965f-4f...|{07138d15-965f-4f...|\n",
      "|{0ca0fcd6-5658-47...|{0ca0fcd6-5658-47...|{e72170f9-8c4d-4a...|{0ca0fcd6-5658-47...|{07138d15-965f-4f...|{07138d15-965f-4f...|\n",
      "|{510b3597-50fa-44...|{510b3597-50fa-44...|{6a5a8f11-011d-45...|{510b3597-50fa-44...|{077183d3-c8a7-42...|{077183d3-c8a7-42...|\n",
      "|{73468dd7-c49c-4c...|{73468dd7-c49c-4c...|{5efe239d-6add-4f...|{73468dd7-c49c-4c...|{0b24dc87-b9ef-4a...|{0b24dc87-b9ef-4a...|\n",
      "|{0ca0fcd6-5658-47...|{0ca0fcd6-5658-47...|{1cc99853-02ab-4f...|{0ca0fcd6-5658-47...|{0ba2d12b-40fa-4e...|{0ba2d12b-40fa-4e...|\n",
      "|{d5d6cc30-027d-4b...|{d5d6cc30-027d-4b...|{1cc99853-02ab-4f...|{d5d6cc30-027d-4b...|{0ba2d12b-40fa-4e...|{0ba2d12b-40fa-4e...|\n",
      "|{0ca0fcd6-5658-47...|{0ca0fcd6-5658-47...|{38f64140-c1a6-4c...|{0ca0fcd6-5658-47...|{0ba2d12b-40fa-4e...|{0ba2d12b-40fa-4e...|\n",
      "|{0ca0fcd6-5658-47...|{0ca0fcd6-5658-47...|{0def1a31-f246-4b...|{0ca0fcd6-5658-47...|{0ba2d12b-40fa-4e...|{0ba2d12b-40fa-4e...|\n",
      "|{0ca0fcd6-5658-47...|{0ca0fcd6-5658-47...|{c9c1edef-5f54-49...|{0ca0fcd6-5658-47...|{0ba2d12b-40fa-4e...|{0ba2d12b-40fa-4e...|\n",
      "|{1aeeecd9-9de5-46...|{1aeeecd9-9de5-46...|{cf845170-9abd-43...|{1aeeecd9-9de5-46...|{0ba2d12b-40fa-4e...|{0ba2d12b-40fa-4e...|\n",
      "|{1cc99853-02ab-4f...|{1cc99853-02ab-4f...|{cf845170-9abd-43...|{1cc99853-02ab-4f...|{0ba2d12b-40fa-4e...|{0ba2d12b-40fa-4e...|\n",
      "|{8b9db19e-b19e-43...|{8b9db19e-b19e-43...|{cf845170-9abd-43...|{8b9db19e-b19e-43...|{0ba2d12b-40fa-4e...|{0ba2d12b-40fa-4e...|\n",
      "|{0ca0fcd6-5658-47...|{0ca0fcd6-5658-47...|{cf845170-9abd-43...|{0ca0fcd6-5658-47...|{0ba2d12b-40fa-4e...|{0ba2d12b-40fa-4e...|\n",
      "|{0ca0fcd6-5658-47...|{0ca0fcd6-5658-47...|{9fec36d3-b4a5-4a...|{0ca0fcd6-5658-47...|{0ba2d12b-40fa-4e...|{0ba2d12b-40fa-4e...|\n",
      "|{a9e69aef-1e5f-43...|{a9e69aef-1e5f-43...|{b229c57e-6cdd-49...|{a9e69aef-1e5f-43...|{2305c6f3-2b36-43...|{2305c6f3-2b36-43...|\n",
      "|{0ca0fcd6-5658-47...|{0ca0fcd6-5658-47...|{b229c57e-6cdd-49...|{0ca0fcd6-5658-47...|{2305c6f3-2b36-43...|{2305c6f3-2b36-43...|\n",
      "|{4d1eb211-f664-4b...|{4d1eb211-f664-4b...|{d3bb57aa-5f71-46...|{4d1eb211-f664-4b...|{2305c6f3-2b36-43...|{2305c6f3-2b36-43...|\n",
      "|{b229c57e-6cdd-49...|{b229c57e-6cdd-49...|{d3bb57aa-5f71-46...|{b229c57e-6cdd-49...|{2305c6f3-2b36-43...|{2305c6f3-2b36-43...|\n",
      "|{a9e69aef-1e5f-43...|{a9e69aef-1e5f-43...|{d3bb57aa-5f71-46...|{a9e69aef-1e5f-43...|{2305c6f3-2b36-43...|{2305c6f3-2b36-43...|\n",
      "|{0ca0fcd6-5658-47...|{0ca0fcd6-5658-47...|{d3bb57aa-5f71-46...|{0ca0fcd6-5658-47...|{2305c6f3-2b36-43...|{2305c6f3-2b36-43...|\n",
      "+--------------------+--------------------+--------------------+--------------------+--------------------+--------------------+\n",
      "only showing top 20 rows\n",
      "\n"
     ]
    },
    {
     "name": "stderr",
     "output_type": "stream",
     "text": [
      "                                                                                "
     ]
    }
   ],
   "source": [
    "# G5: Divergent Triangles\n",
    "paths = g.find(\"(a)-[e1]->(b); (a)-[e2]->(c); (c)-[e3]->(b)\")\n",
    "\n",
    "paths.show()"
   ]
  },
  {
   "cell_type": "code",
   "execution_count": 35,
   "id": "5ee14379-2b1b-4690-9a6f-bdcc803cf7d3",
   "metadata": {},
   "outputs": [
    {
     "name": "stdout",
     "output_type": "stream",
     "text": [
      "+--------+-------------+--------+-------------+--------+-------------+-----+\n",
      "|  A_Type|(a)-[e1]->(b)|  B_Type|(a)-[e2]->(c)|  C_Type|(c)-[e3]->(b)|count|\n",
      "+--------+-------------+--------+-------------+--------+-------------+-----+\n",
      "|     Tag|         Tags|Question|         Tags|Question|        Links|1,775|\n",
      "|    User|         Asks|Question|        Posts|  Answer|      Answers|  274|\n",
      "|Question|        Links|Question|        Links|Question|        Links|  236|\n",
      "|     Tag|         Tags|Question|         Tags|Question|   Duplicates|  140|\n",
      "|    User|         Asks|Question|         Asks|Question|        Links|  103|\n",
      "|Question|        Links|Question|        Links|Question|   Duplicates|   14|\n",
      "|Question|   Duplicates|Question|        Links|Question|        Links|   13|\n",
      "|Question|        Links|Question|   Duplicates|Question|        Links|   12|\n",
      "|    User|         Asks|Question|         Asks|Question|   Duplicates|    8|\n",
      "|Question|   Duplicates|Question|        Links|Question|   Duplicates|    8|\n",
      "|Question|   Duplicates|Question|   Duplicates|Question|        Links|    7|\n",
      "|Question|   Duplicates|Question|   Duplicates|Question|   Duplicates|    2|\n",
      "|Question|        Links|Question|   Duplicates|Question|   Duplicates|    1|\n",
      "+--------+-------------+--------+-------------+--------+-------------+-----+\n",
      "\n"
     ]
    }
   ],
   "source": [
    "graphlet_type_df = paths.select(\n",
    "    F.col(\"a.Type\").alias(\"A_Type\"),\n",
    "    F.col(\"e1.relationship\").alias(\"(a)-[e1]->(b)\"),\n",
    "    F.col(\"b.Type\").alias(\"B_Type\"),\n",
    "    F.col(\"e2.relationship\").alias(\"(a)-[e2]->(c)\"),\n",
    "    F.col(\"c.Type\").alias(\"C_Type\"),\n",
    "    F.col(\"e3.relationship\").alias(\"(c)-[e3]->(b)\"),\n",
    ")\n",
    "\n",
    "graphlet_count_df = (\n",
    "    graphlet_type_df.groupby(\n",
    "        \"A_Type\", \"(a)-[e1]->(b)\", \"B_Type\", \"(a)-[e2]->(c)\", \"C_Type\", \"(c)-[e3]->(b)\"\n",
    "    )\n",
    "    .count()\n",
    "    .orderBy(F.col(\"count\").desc())\n",
    "    # Add a comma formatted column for display\n",
    "    .withColumn(\"count\", F.format_number(F.col(\"count\"), 0))\n",
    ")\n",
    "graphlet_count_df.show()"
   ]
  },
  {
   "cell_type": "markdown",
   "id": "586bf4dd-89f7-4fb5-83d1-91633e5fcd8b",
   "metadata": {},
   "source": [
    "### Motif Path Interpretation\n",
    "\n",
    "1. `(Tag)-[Tags]->(Question B); (Tag)-[Tags]->(Question C); (Question C)-[Links]->(Question B)` - “A tag is used on a question, that tag is used on another question, and the two questions are linked.” It makes sense that questions sharing tags are often linked.\n",
    "\n",
    "2. `(User)-[Asks]->(Question B); (User)-[Posts]->(Answer C); (Answer C)-[Answers]->(Question B)` - or “A user answers their own question.”\n",
    "\n",
    "3. A triangle of linked questions.\n",
    "\n",
    "4. `(Tag)-[Tags]->(Question B); (Tag)-[Tags]->(Question C); (Question B)-[Duplicates]->(Question C)` - or “A tag appears for a pair of duplicate answers.”\n",
    "\n",
    "5. A user asks linked questions.\n",
    "\n",
    "#### For More Motif Work - check out the [Network Motif Finding Tutorial](https://graphframes.github.io/graphframes/docs/_site/motif-tutorial.html)"
   ]
  },
  {
   "cell_type": "markdown",
   "id": "7d211e00-5c42-4264-ae7e-85261a4c1ccd",
   "metadata": {},
   "source": [
    "### Filtering to get Subgraphs"
   ]
  },
  {
   "cell_type": "code",
   "execution_count": 37,
   "id": "c2213493-698f-433e-b476-bb463123a986",
   "metadata": {},
   "outputs": [],
   "source": [
    "from graphframes.examples import Graphs\n",
    "\n",
    "g_friends = Graphs(spark).friends()"
   ]
  },
  {
   "cell_type": "code",
   "execution_count": 38,
   "id": "21d04808-610c-4660-908d-8e5489b0a350",
   "metadata": {},
   "outputs": [],
   "source": [
    "g1_friends = g_friends.filterVertices(\"age > 30\").filterEdges(\"relationship = 'friend'\").dropIsolatedVertices()"
   ]
  },
  {
   "cell_type": "markdown",
   "id": "5302672d-fc92-472b-b39d-57667d4bf334",
   "metadata": {},
   "source": [
    "### A Complex Filter to Build a Subgraph"
   ]
  },
  {
   "cell_type": "code",
   "execution_count": 39,
   "id": "4bac61e6-8779-464e-ae05-0cb30f04f3fe",
   "metadata": {},
   "outputs": [],
   "source": [
    "# Select subgraph based on edges \"e\" of type \"follow\"\n",
    "# pointing from a younger user \"a\" to an older user \"b\"\n",
    "paths = g_friends.find(\"(a)-[e]->(b)\")\\\n",
    "  .filter(\"e.relationship = 'follow'\")\\\n",
    "  .filter(\"a.age < b.age\")\n",
    "\n",
    "# \"paths\" contains vertex info. Extract the edges\n",
    "e2 = paths.select(\"e.src\", \"e.dst\", \"e.relationship\")\n",
    "\n",
    "# In Spark 1.5+, the user may simplify this call\n",
    "# val e2 = paths.select(\"e.*\")\n",
    "# Construct the subgraph\n",
    "g2 = GraphFrame(g_friends.vertices, e2)"
   ]
  },
  {
   "cell_type": "markdown",
   "id": "f3e6a7ef-8328-484e-beb9-92d630bca0cd",
   "metadata": {},
   "source": [
    "### Breadth First Search"
   ]
  },
  {
   "cell_type": "code",
   "execution_count": 40,
   "id": "68bf3680-1864-46d8-ab9f-f969b97b1975",
   "metadata": {},
   "outputs": [
    {
     "name": "stdout",
     "output_type": "stream",
     "text": [
      "The history saving thread hit an unexpected error (OperationalError('attempt to write a readonly database')).History will not be written to the database.\n",
      "+---------------+--------------+--------------+\n",
      "|           from|            e0|            to|\n",
      "+---------------+--------------+--------------+\n",
      "|{e, Esther, 32}|{e, d, friend}|{d, David, 29}|\n",
      "+---------------+--------------+--------------+\n",
      "\n"
     ]
    }
   ],
   "source": [
    "# Search from \"Esther\" for users of age < 32\n",
    "paths = g_friends.bfs(\"name = 'Esther'\", \"age < 32\")\n",
    "paths.show()"
   ]
  },
  {
   "cell_type": "code",
   "execution_count": 45,
   "id": "3261204f-abf1-4b5e-b8f4-54bd034430bb",
   "metadata": {},
   "outputs": [
    {
     "data": {
      "text/html": [
       "<div>\n",
       "<style scoped>\n",
       "    .dataframe tbody tr th:only-of-type {\n",
       "        vertical-align: middle;\n",
       "    }\n",
       "\n",
       "    .dataframe tbody tr th {\n",
       "        vertical-align: top;\n",
       "    }\n",
       "\n",
       "    .dataframe thead th {\n",
       "        text-align: right;\n",
       "    }\n",
       "</style>\n",
       "<table border=\"1\" class=\"dataframe\">\n",
       "  <thead>\n",
       "    <tr style=\"text-align: right;\">\n",
       "      <th></th>\n",
       "      <th>from</th>\n",
       "      <th>e0</th>\n",
       "      <th>v1</th>\n",
       "      <th>e1</th>\n",
       "      <th>to</th>\n",
       "    </tr>\n",
       "  </thead>\n",
       "  <tbody>\n",
       "    <tr>\n",
       "      <th>0</th>\n",
       "      <td>(e, Esther, 32)</td>\n",
       "      <td>(e, f, follow)</td>\n",
       "      <td>(f, Fanny, 36)</td>\n",
       "      <td>(f, c, follow)</td>\n",
       "      <td>(c, Charlie, 30)</td>\n",
       "    </tr>\n",
       "  </tbody>\n",
       "</table>\n",
       "</div>"
      ],
      "text/plain": [
       "              from              e0              v1              e1  \\\n",
       "0  (e, Esther, 32)  (e, f, follow)  (f, Fanny, 36)  (f, c, follow)   \n",
       "\n",
       "                 to  \n",
       "0  (c, Charlie, 30)  "
      ]
     },
     "execution_count": 45,
     "metadata": {},
     "output_type": "execute_result"
    }
   ],
   "source": [
    "# Specify edge filters or max path lengths\n",
    "g_friends.bfs(\"name = 'Esther'\", \"age < 32\",\\\n",
    "  edgeFilter=\"relationship != 'friend'\", maxPathLength=3).toPandas()"
   ]
  },
  {
   "cell_type": "markdown",
   "id": "67bca4d4-1eaf-4083-afb4-20d052789b54",
   "metadata": {},
   "source": [
    "### Label Propagation"
   ]
  },
  {
   "cell_type": "code",
   "execution_count": 53,
   "id": "cb205537-1d7e-4e10-b975-6d622a67f00f",
   "metadata": {},
   "outputs": [
    {
     "name": "stderr",
     "output_type": "stream",
     "text": [
      "25/03/25 08:19:07 WARN BlockManager: Block rdd_7856_0 already exists on this machine; not re-adding it\n"
     ]
    },
    {
     "name": "stdout",
     "output_type": "stream",
     "text": [
      "+---+-------------+\n",
      "| id|        label|\n",
      "+---+-------------+\n",
      "|  f|1460288880640|\n",
      "|  e|1382979469312|\n",
      "|  d|1460288880640|\n",
      "|  c|1382979469312|\n",
      "|  b|1047972020224|\n",
      "|  a|1382979469312|\n",
      "+---+-------------+\n",
      "\n"
     ]
    }
   ],
   "source": [
    "result = g_friends.labelPropagation(maxIter=5)\n",
    "result.select(\"id\", \"label\").show()"
   ]
  },
  {
   "cell_type": "markdown",
   "id": "39fc402a-2aa5-41f4-bbbb-81706aa3a20c",
   "metadata": {},
   "source": [
    "### Triangle Counts\n",
    "\n",
    "Counting the triangles a node participates in helps compute its local clustering coefficient - which measures how embedded it is in the surrounding network."
   ]
  },
  {
   "cell_type": "code",
   "execution_count": 72,
   "id": "56abf003-456d-41e9-b800-4a3ffa80c23e",
   "metadata": {},
   "outputs": [
    {
     "name": "stderr",
     "output_type": "stream",
     "text": [
      "25/03/25 08:34:30 WARN CacheManager: Asked to cache already cached data.\n",
      "                                                                                9]]]"
     ]
    },
    {
     "name": "stdout",
     "output_type": "stream",
     "text": [
      "+--------------------+-----+\n",
      "|                  id|count|\n",
      "+--------------------+-----+\n",
      "|1d9f8360-580e-457...|    3|\n",
      "|ac563ff8-d787-484...|    1|\n",
      "|e1ed7468-f6c1-424...|    0|\n",
      "|713c6cd6-b3b7-4f1...|    3|\n",
      "|39beb7dc-6c4b-4d6...|    0|\n",
      "|8bcef202-e698-49c...|    2|\n",
      "|ac110948-11c8-43b...|    0|\n",
      "|a14b44eb-5a1c-412...|   11|\n",
      "|72151c16-1aa8-452...|    0|\n",
      "|2c23cf34-61ac-407...|    3|\n",
      "|c5782a2b-04ad-497...|    0|\n",
      "|4da74ba2-ad76-4cd...|    2|\n",
      "|e9ce1087-db4c-48e...|    0|\n",
      "|13010ce4-7e07-4fe...|    1|\n",
      "|6d2269e4-3a21-490...|    0|\n",
      "|c89382be-270d-4f8...|    2|\n",
      "|6539d85d-d474-43d...|    6|\n",
      "|5b400a95-2ce7-4d5...|    0|\n",
      "|b4047440-0be5-406...|   22|\n",
      "|cd361cc9-4281-455...|    0|\n",
      "+--------------------+-----+\n",
      "only showing top 20 rows\n",
      "\n"
     ]
    }
   ],
   "source": [
    "results = g.triangleCount()\n",
    "results.select(\"id\", \"count\").show()"
   ]
  },
  {
   "cell_type": "markdown",
   "id": "829353a8-15f2-4cb2-9a60-7a6b52f773b7",
   "metadata": {},
   "source": [
    "### Pregel in GraphFrames - Message passing via AggregateMessages\n",
    "\n",
    "GraphFrames contains the highly scalable Pregel system, which is Bulk Synchronous Parallel (BSP). It passes messages from each and every node once in a cycle, before repeating this operation. Nodes can transmit messages and summarize their combined inputs to do so. This is a lot like the way Graph Neural Network (GNN) message passing works."
   ]
  },
  {
   "cell_type": "code",
   "execution_count": 74,
   "id": "6503de54-bb8d-41ca-9fd7-9fc15f518827",
   "metadata": {},
   "outputs": [
    {
     "name": "stdout",
     "output_type": "stream",
     "text": [
      "+---+----------+\n",
      "| id|summedAges|\n",
      "+---+----------+\n",
      "|  f|        62|\n",
      "|  e|        65|\n",
      "|  d|        66|\n",
      "|  c|       108|\n",
      "|  b|        94|\n",
      "|  a|        65|\n",
      "+---+----------+\n",
      "\n",
      "+---+---+------------+\n",
      "|src|dst|relationship|\n",
      "+---+---+------------+\n",
      "|  a|  b|      friend|\n",
      "|  b|  c|      follow|\n",
      "|  c|  b|      follow|\n",
      "|  f|  c|      follow|\n",
      "|  e|  f|      follow|\n",
      "|  e|  d|      friend|\n",
      "|  d|  a|      friend|\n",
      "+---+---+------------+\n",
      "\n"
     ]
    }
   ],
   "source": [
    "from graphframes.lib import AggregateMessages as AM\n",
    "from graphframes.examples import Graphs\n",
    "from pyspark.sql.functions import sum as sqlsum\n",
    "\n",
    "\n",
    "g = Graphs(spark).friends()  # Get example graph\n",
    "\n",
    "# For each user, sum the ages of the adjacent users\n",
    "msgToSrc = AM.dst[\"age\"]\n",
    "msgToDst = AM.src[\"age\"]\n",
    "agg = g.aggregateMessages(\n",
    "    sqlsum(AM.msg).alias(\"summedAges\"),\n",
    "    sendToSrc=msgToSrc,\n",
    "    sendToDst=msgToDst)\n",
    "agg.show()"
   ]
  },
  {
   "cell_type": "markdown",
   "id": "9f01315f-a531-4d22-b3f4-185b3777e3bd",
   "metadata": {},
   "source": [
    "## Mercury Graph\n",
    "\n",
    "Another library that you can use to build networks in PySpark. Contains a Node2Vec, Louvain and Spectral Clustering algorithms... I really want to add `struc2vec` as well."
   ]
  },
  {
   "cell_type": "code",
   "execution_count": 55,
   "id": "de650f88-c7ee-4e0f-ba3e-5bf4aa46d3a2",
   "metadata": {},
   "outputs": [],
   "source": [
    "from pyspark.ml.functions import vector_to_array\n",
    "from mercury.graph.core import Graph  # type: ignore\n",
    "from mercury.graph.embeddings import SparkNode2Vec  # type: ignore\n",
    "\n",
    "\n",
    "DIMENSIONS = 16"
   ]
  },
  {
   "cell_type": "code",
   "execution_count": 56,
   "id": "bde08494-272d-4c55-bfdd-0ef9bde95002",
   "metadata": {},
   "outputs": [
    {
     "name": "stderr",
     "output_type": "stream",
     "text": [
      "                                                                                "
     ]
    }
   ],
   "source": [
    "# Compute Node2Vec embeddings - Build the Graph.\n",
    "gm = Graph(\n",
    "    data=edge_df.withColumn(\"weight\", F.lit(1.0)),\n",
    "    nodes=vertex_df,\n",
    ")\n",
    "\n",
    "n2v = SparkNode2Vec(dimension=DIMENSIONS, num_paths_per_node=4, num_epochs=3, w2v_min_count=1)\n",
    "n2v.fit(gm)\n",
    "\n",
    "# Convert the VectorUDF to an ArrayType of DoubleTypes\n",
    "signal_df: DataFrame = n2v.embedding().select(\n",
    "    F.col(\"word\").alias(\"id\"), vector_to_array(F.col(\"vector\")).alias(\"node2vec\")\n",
    ")"
   ]
  },
  {
   "cell_type": "code",
   "execution_count": null,
   "id": "29dd4072-fd2c-442a-b4c1-812441c08fb0",
   "metadata": {},
   "outputs": [],
   "source": []
  }
 ],
 "metadata": {
  "kernelspec": {
   "display_name": "Python 3 (ipykernel)",
   "language": "python",
   "name": "python3"
  },
  "language_info": {
   "codemirror_mode": {
    "name": "ipython",
    "version": 3
   },
   "file_extension": ".py",
   "mimetype": "text/x-python",
   "name": "python",
   "nbconvert_exporter": "python",
   "pygments_lexer": "ipython3",
   "version": "3.12.9"
  }
 },
 "nbformat": 4,
 "nbformat_minor": 5
}
